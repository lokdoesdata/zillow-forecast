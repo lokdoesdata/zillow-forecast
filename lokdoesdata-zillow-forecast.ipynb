{
 "metadata": {
  "language_info": {
   "codemirror_mode": {
    "name": "ipython",
    "version": 3
   },
   "file_extension": ".py",
   "mimetype": "text/x-python",
   "name": "python",
   "nbconvert_exporter": "python",
   "pygments_lexer": "ipython3",
   "version": "3.9.2-final"
  },
  "orig_nbformat": 2,
  "kernelspec": {
   "name": "python392jvsc74a57bd0f78d9d9fda4e8014847df283e74ce918045dc38099b26a7f1a58b01135f9c35e",
   "display_name": "Python 3.9.2 64-bit ('zillow': conda)"
  }
 },
 "nbformat": 4,
 "nbformat_minor": 2,
 "cells": [
  {
   "source": [
    "[![Open In Colab](https://colab.research.google.com/assets/colab-badge.svg)](https://colab.research.google.com/github/lokdoesdata/zillow-forecast/blob/main/lokdoesdata-zillow-forecast.ipynb)"
   ],
   "cell_type": "markdown",
   "metadata": {}
  },
  {
   "source": [
    "## Introduction\n",
    "\n",
    "“Of all the ways the ultra-rich made their fortunes, real estate outpaced every other method 3 to 1”, wrote [Liz Brumer-Smith](https://www.fool.com/millionacres/real-estate-basics/when-to-invest-in-real-estate/) of Millionarces. Like any other investments, market knowledge is important for investing in real estates. Fortunately, with how widely available data is in today's society, there are plenty of data that can be used to help make real estate investment decisions. In this exercise, future pricing of single family homes were prediced using data from [Zillow](https://files.zillowstatic.com/research/public/Zip/Zip_Zhvi_SingleFamilyResidence.csv).\n",
    "\n",
    "This exercise was originally done as part of a course assignment for Big Data Analytics (IST 718) at Syracuse University."
   ],
   "cell_type": "markdown",
   "metadata": {}
  },
  {
   "source": [
    "## Set Up\n",
    "\n",
    "This notebook uses [`geopandas`](https://geopandas.org/) and it's designed to run on Google Colab.\n",
    "\n",
    "This notebook also uses two custom helpers; one for handling the data pull, and another to handle the times series."
   ],
   "cell_type": "markdown",
   "metadata": {}
  },
  {
   "source": [
    "### Install GeoPandas\n",
    "\n",
    "This uses pip to install `geopandas` on Google Colab."
   ],
   "cell_type": "markdown",
   "metadata": {}
  },
  {
   "cell_type": "code",
   "execution_count": null,
   "metadata": {},
   "outputs": [],
   "source": [
    "%pip install --upgrade geopandas\n",
    "%pip install --upgrade pyshp\n",
    "%pip install --upgrade shapely\n",
    "%pip install --upgrade descartes"
   ]
  },
  {
   "source": [
    "### Import Packages"
   ],
   "cell_type": "markdown",
   "metadata": {}
  },
  {
   "cell_type": "code",
   "execution_count": 7,
   "metadata": {},
   "outputs": [],
   "source": [
    "from helper import data\n",
    "import pandas as pd\n",
    "import geopandas as gpd"
   ]
  },
  {
   "source": [
    "## Data\n",
    "\n",
    "The main dataset used in this exercise is from [Zillow's Housing Price Index by ZIP Code](https://files.zillowstatic.com/research/public/Zip/Zip_Zhvi_SingleFamilyResidence.csv). This data set contains monthly housing price by ZIP Code. At the time of the analysis, there are data from January 1996 to March 2020. \n",
    "\n",
    "An initial data inspection does not shows that the Zillow data set has a lot of incorrect state assigned to the ZIP codes. For example, ZIP code 00601 is assigned to Mississippi when it belongs to Puerto Rico. This mainly affect ZIP codes outside of the 50 states. However, external dataset can be used to correct them.\n",
    "\n",
    "Two geodatabases from Esri were used:\n",
    "- [USA ZIP Code Areas](https://www.arcgis.com/home/item.html?id=8d2012a2016e484dafaac0451f9aea24) which contains ZIP Code boundaries from TomTom (December 2019) and 2018 total population estimates from Esri demographics team.\n",
    "- [USA ZIP Code Points](https://www.arcgis.com/home/item.html?id=1eeaf4bb41314febb990e2e96f7178df) which contains ZIP Code points from TomTom December 2019 and 2018 total population estimates from Esri demographics team. This file is used for single site ZIP Codes.\n",
    "\n",
    "One shapefile from the United States' Census:\n",
    "- [Metropolitan and Micropolitan Statistical Area (MSA)](https://www2.census.gov/geo/tiger/GENZ2010/gz_2010_us_310_m1_500k.zip) from the 2010 Census (latest version at the time of analysis).\n",
    "\n"
   ],
   "cell_type": "markdown",
   "metadata": {}
  },
  {
   "source": [
    "### Zillow Data\n",
    "\n",
    "The Zillow dataset was downloaded directly from Zillow."
   ],
   "cell_type": "markdown",
   "metadata": {}
  },
  {
   "cell_type": "code",
   "execution_count": null,
   "metadata": {},
   "outputs": [],
   "source": [
    "gdf_zillow = pd.read_csv(r'https://files.zillowstatic.com/research/public/Zip/Zip_Zhvi_SingleFamilyResidence.csv')\n",
    "\n",
    "gdf_zillow.drop([\n",
    "    'RegionID', \n",
    "    'SizeRank', \n",
    "    'RegionType', \n",
    "    'StateName', \n",
    "    'State', \n",
    "    'City', \n",
    "    'Metro', \n",
    "    'CountyName'\n",
    "], axis=1, inplace=True)\n",
    "\n",
    "gdf_zillow.rename({'RegionName': 'ZIP Code'}, axis=1, inplace=True)\n",
    "\n",
    "gdf_zillow['ZIP Code'] = [str(z).zfill(5) for z in gdf_zillow['ZIP Code']]"
   ]
  },
  {
   "source": [
    "### Geographical Data\n",
    "\n",
    "The geographical information for each ZIP code is processed using a [helper module](https://colab.research.google.com/github/lokdoesdata/zillow-forecast/blob/main/helper/geom_data.ipynb)."
   ],
   "cell_type": "markdown",
   "metadata": {}
  },
  {
   "cell_type": "code",
   "execution_count": 2,
   "metadata": {},
   "outputs": [
    {
     "output_type": "stream",
     "name": "stdout",
     "text": [
      "Wall time: 2min 33s\n"
     ]
    }
   ],
   "source": [
    "gdf_zip_code = data.get_zip_code_gdf()\n",
    "\n",
    "gdf_zip_code.rename({\n",
    "    'ZIP_CODE': 'ZIP Code',\n",
    "    'PO_NAME': 'PO Name',\n",
    "    'STATE': 'State',\n",
    "    'POPULATION': 'Pop',\n",
    "    'SQMI': 'Sq Mi',\n",
    "    'NAME': 'MSA'\n",
    "}, axis=1, inplace=True)\n",
    "\n",
    "gdf_zip_code = gdf_zip_code[['ZIP Code', 'PO Name', 'State', 'Pop', 'Sq Mi', 'MSA', 'geometry']]"
   ]
  },
  {
   "cell_type": "code",
   "execution_count": 25,
   "metadata": {},
   "outputs": [],
   "source": [
    "gdf_zip_code = gdf_zip_code.merge(gdf_zillow, on='ZIP Code')"
   ]
  },
  {
   "cell_type": "code",
   "execution_count": 26,
   "metadata": {},
   "outputs": [
    {
     "output_type": "execute_result",
     "data": {
      "text/plain": [
       "      ZIP Code         PO Name State      Pop   Sq Mi                MSA  \\\n",
       "0        35004           Moody    AL  10166.0   16.67  Birmingham-Hoover   \n",
       "1        35005      Adamsville    AL   7704.0   31.95  Birmingham-Hoover   \n",
       "2        35006           Adger    AL   3226.0  110.74  Birmingham-Hoover   \n",
       "3        35007       Alabaster    AL  28701.0   37.41  Birmingham-Hoover   \n",
       "4        35010  Alexander City    AL  20230.0  247.58     Alexander City   \n",
       "...        ...             ...   ...      ...     ...                ...   \n",
       "30459    82934         Granger    WY      NaN     NaN       Rock Springs   \n",
       "30460    82939   Mountain View    WY      NaN     NaN           Evanston   \n",
       "30461    82944       Robertson    WY      NaN     NaN           Evanston   \n",
       "30462    82945        Superior    WY      NaN     NaN       Rock Springs   \n",
       "30463    83119        Fairview    WY      NaN     NaN                NaN   \n",
       "\n",
       "                                                geometry  1996-01-31  \\\n",
       "0      POLYGON ((-86.53440 33.57611, -86.53439 33.579...         NaN   \n",
       "1      POLYGON ((-87.08134 33.61427, -87.08134 33.614...         NaN   \n",
       "2      POLYGON ((-87.37462 33.43646, -87.37457 33.436...         NaN   \n",
       "3      POLYGON ((-86.86542 33.19305, -86.86539 33.193...         NaN   \n",
       "4      POLYGON ((-86.10826 32.83174, -86.10698 32.833...         NaN   \n",
       "...                                                  ...         ...   \n",
       "30459                        POINT (-109.96484 41.58896)         NaN   \n",
       "30460                        POINT (-110.33740 41.27024)         NaN   \n",
       "30461                        POINT (-110.40662 41.18529)         NaN   \n",
       "30462                        POINT (-108.96489 41.76420)         NaN   \n",
       "30463                        POINT (-110.98499 42.69056)         NaN   \n",
       "\n",
       "       1996-02-29  1996-03-31  ...  2019-06-30  2019-07-31  2019-08-31  \\\n",
       "0             NaN         NaN  ...    171341.0    171985.0    172798.0   \n",
       "1             NaN         NaN  ...     93842.0     94998.0     95880.0   \n",
       "2             NaN     65352.0  ...     89677.0     90329.0     90541.0   \n",
       "3             NaN         NaN  ...    176897.0    177814.0    178767.0   \n",
       "4             NaN         NaN  ...    105853.0    106422.0    106928.0   \n",
       "...           ...         ...  ...         ...         ...         ...   \n",
       "30459         NaN         NaN  ...     68665.0     68642.0     68769.0   \n",
       "30460         NaN         NaN  ...    218850.0    220318.0    221834.0   \n",
       "30461         NaN         NaN  ...    255875.0    258222.0    261013.0   \n",
       "30462         NaN         NaN  ...     56587.0     57422.0     57578.0   \n",
       "30463         NaN         NaN  ...    377316.0    378401.0    379846.0   \n",
       "\n",
       "       2019-09-30  2019-10-31  2019-11-30  2019-12-31  2020-01-31  2020-02-29  \\\n",
       "0        173525.0    174447.0    175412.0    176493.0    177517.0    178792.0   \n",
       "1         96309.0     96827.0     97715.0     98858.0    100218.0    101420.0   \n",
       "2         90755.0     91278.0     92405.0     93368.0     94468.0     95646.0   \n",
       "3        179826.0    181315.0    182661.0    183993.0    185435.0    186884.0   \n",
       "4        107407.0    107833.0    108275.0    108636.0    109033.0    109330.0   \n",
       "...           ...         ...         ...         ...         ...         ...   \n",
       "30459     69167.0     69679.0     70262.0     70312.0     70867.0     71104.0   \n",
       "30460    223074.0    223976.0    224595.0    225243.0    225789.0    226010.0   \n",
       "30461    262419.0    264220.0    264957.0    266349.0    268271.0    269414.0   \n",
       "30462     57380.0     56872.0     56611.0     56404.0     56016.0     55944.0   \n",
       "30463    381367.0    381718.0    381591.0    383574.0    385133.0    387036.0   \n",
       "\n",
       "       2020-03-31  \n",
       "0        180209.0  \n",
       "1        103567.0  \n",
       "2         97727.0  \n",
       "3        188331.0  \n",
       "4        109625.0  \n",
       "...           ...  \n",
       "30459     72128.0  \n",
       "30460    226011.0  \n",
       "30461    269747.0  \n",
       "30462     55830.0  \n",
       "30463    388456.0  \n",
       "\n",
       "[30464 rows x 298 columns]"
      ],
      "text/html": "<div>\n<style scoped>\n    .dataframe tbody tr th:only-of-type {\n        vertical-align: middle;\n    }\n\n    .dataframe tbody tr th {\n        vertical-align: top;\n    }\n\n    .dataframe thead th {\n        text-align: right;\n    }\n</style>\n<table border=\"1\" class=\"dataframe\">\n  <thead>\n    <tr style=\"text-align: right;\">\n      <th></th>\n      <th>ZIP Code</th>\n      <th>PO Name</th>\n      <th>State</th>\n      <th>Pop</th>\n      <th>Sq Mi</th>\n      <th>MSA</th>\n      <th>geometry</th>\n      <th>1996-01-31</th>\n      <th>1996-02-29</th>\n      <th>1996-03-31</th>\n      <th>...</th>\n      <th>2019-06-30</th>\n      <th>2019-07-31</th>\n      <th>2019-08-31</th>\n      <th>2019-09-30</th>\n      <th>2019-10-31</th>\n      <th>2019-11-30</th>\n      <th>2019-12-31</th>\n      <th>2020-01-31</th>\n      <th>2020-02-29</th>\n      <th>2020-03-31</th>\n    </tr>\n  </thead>\n  <tbody>\n    <tr>\n      <th>0</th>\n      <td>35004</td>\n      <td>Moody</td>\n      <td>AL</td>\n      <td>10166.0</td>\n      <td>16.67</td>\n      <td>Birmingham-Hoover</td>\n      <td>POLYGON ((-86.53440 33.57611, -86.53439 33.579...</td>\n      <td>NaN</td>\n      <td>NaN</td>\n      <td>NaN</td>\n      <td>...</td>\n      <td>171341.0</td>\n      <td>171985.0</td>\n      <td>172798.0</td>\n      <td>173525.0</td>\n      <td>174447.0</td>\n      <td>175412.0</td>\n      <td>176493.0</td>\n      <td>177517.0</td>\n      <td>178792.0</td>\n      <td>180209.0</td>\n    </tr>\n    <tr>\n      <th>1</th>\n      <td>35005</td>\n      <td>Adamsville</td>\n      <td>AL</td>\n      <td>7704.0</td>\n      <td>31.95</td>\n      <td>Birmingham-Hoover</td>\n      <td>POLYGON ((-87.08134 33.61427, -87.08134 33.614...</td>\n      <td>NaN</td>\n      <td>NaN</td>\n      <td>NaN</td>\n      <td>...</td>\n      <td>93842.0</td>\n      <td>94998.0</td>\n      <td>95880.0</td>\n      <td>96309.0</td>\n      <td>96827.0</td>\n      <td>97715.0</td>\n      <td>98858.0</td>\n      <td>100218.0</td>\n      <td>101420.0</td>\n      <td>103567.0</td>\n    </tr>\n    <tr>\n      <th>2</th>\n      <td>35006</td>\n      <td>Adger</td>\n      <td>AL</td>\n      <td>3226.0</td>\n      <td>110.74</td>\n      <td>Birmingham-Hoover</td>\n      <td>POLYGON ((-87.37462 33.43646, -87.37457 33.436...</td>\n      <td>NaN</td>\n      <td>NaN</td>\n      <td>65352.0</td>\n      <td>...</td>\n      <td>89677.0</td>\n      <td>90329.0</td>\n      <td>90541.0</td>\n      <td>90755.0</td>\n      <td>91278.0</td>\n      <td>92405.0</td>\n      <td>93368.0</td>\n      <td>94468.0</td>\n      <td>95646.0</td>\n      <td>97727.0</td>\n    </tr>\n    <tr>\n      <th>3</th>\n      <td>35007</td>\n      <td>Alabaster</td>\n      <td>AL</td>\n      <td>28701.0</td>\n      <td>37.41</td>\n      <td>Birmingham-Hoover</td>\n      <td>POLYGON ((-86.86542 33.19305, -86.86539 33.193...</td>\n      <td>NaN</td>\n      <td>NaN</td>\n      <td>NaN</td>\n      <td>...</td>\n      <td>176897.0</td>\n      <td>177814.0</td>\n      <td>178767.0</td>\n      <td>179826.0</td>\n      <td>181315.0</td>\n      <td>182661.0</td>\n      <td>183993.0</td>\n      <td>185435.0</td>\n      <td>186884.0</td>\n      <td>188331.0</td>\n    </tr>\n    <tr>\n      <th>4</th>\n      <td>35010</td>\n      <td>Alexander City</td>\n      <td>AL</td>\n      <td>20230.0</td>\n      <td>247.58</td>\n      <td>Alexander City</td>\n      <td>POLYGON ((-86.10826 32.83174, -86.10698 32.833...</td>\n      <td>NaN</td>\n      <td>NaN</td>\n      <td>NaN</td>\n      <td>...</td>\n      <td>105853.0</td>\n      <td>106422.0</td>\n      <td>106928.0</td>\n      <td>107407.0</td>\n      <td>107833.0</td>\n      <td>108275.0</td>\n      <td>108636.0</td>\n      <td>109033.0</td>\n      <td>109330.0</td>\n      <td>109625.0</td>\n    </tr>\n    <tr>\n      <th>...</th>\n      <td>...</td>\n      <td>...</td>\n      <td>...</td>\n      <td>...</td>\n      <td>...</td>\n      <td>...</td>\n      <td>...</td>\n      <td>...</td>\n      <td>...</td>\n      <td>...</td>\n      <td>...</td>\n      <td>...</td>\n      <td>...</td>\n      <td>...</td>\n      <td>...</td>\n      <td>...</td>\n      <td>...</td>\n      <td>...</td>\n      <td>...</td>\n      <td>...</td>\n      <td>...</td>\n    </tr>\n    <tr>\n      <th>30459</th>\n      <td>82934</td>\n      <td>Granger</td>\n      <td>WY</td>\n      <td>NaN</td>\n      <td>NaN</td>\n      <td>Rock Springs</td>\n      <td>POINT (-109.96484 41.58896)</td>\n      <td>NaN</td>\n      <td>NaN</td>\n      <td>NaN</td>\n      <td>...</td>\n      <td>68665.0</td>\n      <td>68642.0</td>\n      <td>68769.0</td>\n      <td>69167.0</td>\n      <td>69679.0</td>\n      <td>70262.0</td>\n      <td>70312.0</td>\n      <td>70867.0</td>\n      <td>71104.0</td>\n      <td>72128.0</td>\n    </tr>\n    <tr>\n      <th>30460</th>\n      <td>82939</td>\n      <td>Mountain View</td>\n      <td>WY</td>\n      <td>NaN</td>\n      <td>NaN</td>\n      <td>Evanston</td>\n      <td>POINT (-110.33740 41.27024)</td>\n      <td>NaN</td>\n      <td>NaN</td>\n      <td>NaN</td>\n      <td>...</td>\n      <td>218850.0</td>\n      <td>220318.0</td>\n      <td>221834.0</td>\n      <td>223074.0</td>\n      <td>223976.0</td>\n      <td>224595.0</td>\n      <td>225243.0</td>\n      <td>225789.0</td>\n      <td>226010.0</td>\n      <td>226011.0</td>\n    </tr>\n    <tr>\n      <th>30461</th>\n      <td>82944</td>\n      <td>Robertson</td>\n      <td>WY</td>\n      <td>NaN</td>\n      <td>NaN</td>\n      <td>Evanston</td>\n      <td>POINT (-110.40662 41.18529)</td>\n      <td>NaN</td>\n      <td>NaN</td>\n      <td>NaN</td>\n      <td>...</td>\n      <td>255875.0</td>\n      <td>258222.0</td>\n      <td>261013.0</td>\n      <td>262419.0</td>\n      <td>264220.0</td>\n      <td>264957.0</td>\n      <td>266349.0</td>\n      <td>268271.0</td>\n      <td>269414.0</td>\n      <td>269747.0</td>\n    </tr>\n    <tr>\n      <th>30462</th>\n      <td>82945</td>\n      <td>Superior</td>\n      <td>WY</td>\n      <td>NaN</td>\n      <td>NaN</td>\n      <td>Rock Springs</td>\n      <td>POINT (-108.96489 41.76420)</td>\n      <td>NaN</td>\n      <td>NaN</td>\n      <td>NaN</td>\n      <td>...</td>\n      <td>56587.0</td>\n      <td>57422.0</td>\n      <td>57578.0</td>\n      <td>57380.0</td>\n      <td>56872.0</td>\n      <td>56611.0</td>\n      <td>56404.0</td>\n      <td>56016.0</td>\n      <td>55944.0</td>\n      <td>55830.0</td>\n    </tr>\n    <tr>\n      <th>30463</th>\n      <td>83119</td>\n      <td>Fairview</td>\n      <td>WY</td>\n      <td>NaN</td>\n      <td>NaN</td>\n      <td>NaN</td>\n      <td>POINT (-110.98499 42.69056)</td>\n      <td>NaN</td>\n      <td>NaN</td>\n      <td>NaN</td>\n      <td>...</td>\n      <td>377316.0</td>\n      <td>378401.0</td>\n      <td>379846.0</td>\n      <td>381367.0</td>\n      <td>381718.0</td>\n      <td>381591.0</td>\n      <td>383574.0</td>\n      <td>385133.0</td>\n      <td>387036.0</td>\n      <td>388456.0</td>\n    </tr>\n  </tbody>\n</table>\n<p>30464 rows × 298 columns</p>\n</div>"
     },
     "metadata": {},
     "execution_count": 26
    }
   ],
   "source": [
    "gdf_zip_code"
   ]
  },
  {
   "cell_type": "code",
   "execution_count": null,
   "metadata": {},
   "outputs": [],
   "source": []
  }
 ]
}