{
 "metadata": {
  "language_info": {
   "codemirror_mode": {
    "name": "ipython",
    "version": 3
   },
   "file_extension": ".py",
   "mimetype": "text/x-python",
   "name": "python",
   "nbconvert_exporter": "python",
   "pygments_lexer": "ipython3",
   "version": "3.8.2-final"
  },
  "orig_nbformat": 2,
  "kernelspec": {
   "name": "python382jvsc74a57bd0cda6462e41e39767aa505fcb85aa0414a068e643f7b65bdc41dafcaa0835576a",
   "display_name": "Python 3.8.2 64-bit ('zillow': conda)"
  },
  "metadata": {
   "interpreter": {
    "hash": "f78d9d9fda4e8014847df283e74ce918045dc38099b26a7f1a58b01135f9c35e"
   }
  }
 },
 "nbformat": 4,
 "nbformat_minor": 2,
 "cells": [
  {
   "source": [
    "[![Open In Colab](https://colab.research.google.com/assets/colab-badge.svg)](https://colab.research.google.com/github/lokdoesdata/zillow-forecast/blob/main/lokdoesdata-zillow-forecast.ipynb)"
   ],
   "cell_type": "markdown",
   "metadata": {}
  },
  {
   "source": [
    "## Introduction\n",
    "\n",
    "“Of all the ways the ultra-rich made their fortunes, real estate outpaced every other method 3 to 1”, wrote [Liz Brumer-Smith](https://www.fool.com/millionacres/real-estate-basics/when-to-invest-in-real-estate/) of Millionarces. Like any other investments, market knowledge is important for investing in real estates. Fortunately, with how widely available data is in today's society, there are plenty of data that can be used to help make real estate investment decisions. In this exercise, future pricing of single family homes were prediced using data from [Zillow](https://files.zillowstatic.com/research/public/Zip/Zip_Zhvi_SingleFamilyResidence.csv).\n",
    "\n",
    "This exercise was originally done as part of a course assignment for Big Data Analytics (IST 718) at Syracuse University."
   ],
   "cell_type": "markdown",
   "metadata": {}
  },
  {
   "source": [
    "## Set Up\n",
    "\n",
    "This notebook uses [`geopandas`](https://geopandas.org/) and it's designed to run on Google Colab.\n",
    "\n",
    "This notebook also uses two custom helpers; one for handling the data pull, and another to handle the times series."
   ],
   "cell_type": "markdown",
   "metadata": {}
  },
  {
   "source": [
    "### Install GeoPandas\n",
    "\n",
    "This uses pip to install `geopandas` on Google Colab."
   ],
   "cell_type": "markdown",
   "metadata": {}
  },
  {
   "cell_type": "code",
   "execution_count": 1,
   "metadata": {},
   "outputs": [],
   "source": [
    "%pip install --upgrade geopandas\n",
    "%pip install --upgrade pyshp\n",
    "%pip install --upgrade shapely\n",
    "%pip install --upgrade descartes"
   ]
  },
  {
   "source": [
    "### Install pmdarima\n",
    "\n",
    "This uses pip to install `pmdarima` on Google Colab."
   ],
   "cell_type": "markdown",
   "metadata": {}
  },
  {
   "cell_type": "code",
   "execution_count": null,
   "metadata": {},
   "outputs": [],
   "source": [
    "%pip install --upgrade pmdarima"
   ]
  },
  {
   "source": [
    "### Cloning from Github"
   ],
   "cell_type": "markdown",
   "metadata": {}
  },
  {
   "cell_type": "code",
   "execution_count": 2,
   "metadata": {},
   "outputs": [],
   "source": [
    "!git clone https://github.com/lokdoesdata/zillow-forecast.git\n",
    "import sys, os\n",
    "sys.path.append(r'/content/zillow-forecast')"
   ]
  },
  {
   "source": [
    "### Import Packages"
   ],
   "cell_type": "markdown",
   "metadata": {}
  },
  {
   "cell_type": "code",
   "execution_count": 3,
   "metadata": {},
   "outputs": [],
   "source": [
    "from helper import geom_data\n",
    "from helper.time_series import TimeSeries\n",
    "import pandas as pd\n",
    "import geopandas as gpd"
   ]
  },
  {
   "source": [
    "## Data\n",
    "\n",
    "The main dataset used in this exercise is from [Zillow's Housing Price Index by ZIP Code](https://files.zillowstatic.com/research/public/Zip/Zip_Zhvi_SingleFamilyResidence.csv). This data set contains monthly housing price by ZIP Code. At the time of the analysis, there are data from January 1996 to March 2020. \n",
    "\n",
    "An initial data inspection does not shows that the Zillow data set has a lot of incorrect state assigned to the ZIP codes. For example, ZIP code 00601 is assigned to Mississippi when it belongs to Puerto Rico. This mainly affect ZIP codes outside of the 50 states. However, external dataset can be used to correct them.\n",
    "\n",
    "Two geodatabases from Esri were used:\n",
    "- [USA ZIP Code Areas](https://www.arcgis.com/home/item.html?id=8d2012a2016e484dafaac0451f9aea24) which contains ZIP Code boundaries from TomTom (December 2019) and 2018 total population estimates from Esri demographics team.\n",
    "- [USA ZIP Code Points](https://www.arcgis.com/home/item.html?id=1eeaf4bb41314febb990e2e96f7178df) which contains ZIP Code points from TomTom December 2019 and 2018 total population estimates from Esri demographics team. This file is used for single site ZIP Codes.\n",
    "\n",
    "One shapefile from the United States' Census:\n",
    "- [Metropolitan and Micropolitan Statistical Area (MSA)](https://www2.census.gov/geo/tiger/GENZ2010/gz_2010_us_310_m1_500k.zip) from the 2010 Census (latest version at the time of analysis).\n",
    "\n"
   ],
   "cell_type": "markdown",
   "metadata": {}
  },
  {
   "source": [
    "### Zillow Data\n",
    "\n",
    "The Zillow dataset was downloaded directly from Zillow."
   ],
   "cell_type": "markdown",
   "metadata": {}
  },
  {
   "cell_type": "code",
   "execution_count": 4,
   "metadata": {},
   "outputs": [],
   "source": [
    "gdf_zillow = pd.read_csv(r'https://files.zillowstatic.com/research/public/Zip/Zip_Zhvi_SingleFamilyResidence.csv')\n",
    "\n",
    "gdf_zillow.drop([\n",
    "    'RegionID', \n",
    "    'SizeRank', \n",
    "    'RegionType', \n",
    "    'StateName', \n",
    "    'State', \n",
    "    'City', \n",
    "    'Metro', \n",
    "    'CountyName'\n",
    "], axis=1, inplace=True)\n",
    "\n",
    "gdf_zillow.rename({'RegionName': 'ZIP Code'}, axis=1, inplace=True)\n",
    "\n",
    "gdf_zillow['ZIP Code'] = [str(z).zfill(5) for z in gdf_zillow['ZIP Code']]"
   ]
  },
  {
   "source": [
    "### Geographical Data\n",
    "\n",
    "The geographical information for each ZIP code is processed using a [helper module](https://github.com/lokdoesdata/zillow-forecast/blob/main/helper/geom_data.py).\n",
    "\n",
    "This could take a while due to the volume of data."
   ],
   "cell_type": "markdown",
   "metadata": {}
  },
  {
   "cell_type": "code",
   "execution_count": 5,
   "metadata": {},
   "outputs": [],
   "source": [
    "gdf_zip_code = geom_data.get_zip_code_gdf()\n",
    "\n",
    "gdf_zip_code.rename({\n",
    "    'ZIP_CODE': 'ZIP Code',\n",
    "    'PO_NAME': 'PO Name',\n",
    "    'STATE': 'State',\n",
    "    'POPULATION': 'Pop',\n",
    "    'SQMI': 'Sq Mi',\n",
    "    'NAME': 'MSA'\n",
    "}, axis=1, inplace=True)\n",
    "\n",
    "gdf_zip_code = gdf_zip_code[['ZIP Code', 'PO Name', 'State', 'Pop', 'Sq Mi', 'MSA', 'x', 'y', 'geometry']]"
   ]
  },
  {
   "cell_type": "code",
   "execution_count": 6,
   "metadata": {},
   "outputs": [],
   "source": [
    "gdf_zip_code = gdf_zip_code.merge(gdf_zillow, on='ZIP Code')"
   ]
  },
  {
   "cell_type": "code",
   "execution_count": 7,
   "metadata": {},
   "outputs": [],
   "source": [
    "# gdf_zip_code = gpd.read_file(geom_data.DATA_PATH.joinpath('test_input', 'zip_code.gpkg'))"
   ]
  },
  {
   "cell_type": "code",
   "execution_count": 8,
   "metadata": {},
   "outputs": [],
   "source": [
    "time_series = TimeSeries(gdf_zip_code, forecast_start='01/31/2019')"
   ]
  },
  {
   "cell_type": "code",
   "execution_count": null,
   "metadata": {},
   "outputs": [],
   "source": []
  }
 ]
}